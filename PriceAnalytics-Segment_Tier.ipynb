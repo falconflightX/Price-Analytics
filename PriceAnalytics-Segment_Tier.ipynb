{
 "cells": [
  {
   "cell_type": "code",
   "execution_count": 572,
   "metadata": {},
   "outputs": [],
   "source": [
    "import pandas as pd\n",
    "import numpy as np\n",
    "import matplotlib.pyplot as plt\n",
    "import seaborn as sns\n",
    "from scipy import stats"
   ]
  },
  {
   "cell_type": "code",
   "execution_count": 573,
   "metadata": {},
   "outputs": [],
   "source": [
    "df1=pd.read_excel(\"C:/Users/L7927301/Documents/PCR/Bangalore_Prices.xlsx\")"
   ]
  },
  {
   "cell_type": "code",
   "execution_count": 574,
   "metadata": {},
   "outputs": [
    {
     "data": {
      "text/plain": [
       "Index(['custcode', 'Custname', 'ProductVal', 'Invoiceno', 'Invcdate', 'InvVal',\n",
       "       'Gpno', 'Qty', 'Rate', 'Itemcode', 'Descr', 'Phy_Attrib1',\n",
       "       'Phy_Attrib2', 'Orderdate', 'Transportr', 'Pordno', 'Porddt', 'FrtTerm',\n",
       "       'Market', 'Segment', 'Segment1', 'Segment2', 'ShortDesc',\n",
       "       'Consignee Name', 'Dlv Term'],\n",
       "      dtype='object')"
      ]
     },
     "execution_count": 574,
     "metadata": {},
     "output_type": "execute_result"
    }
   ],
   "source": [
    "df1.columns"
   ]
  },
  {
   "cell_type": "code",
   "execution_count": 575,
   "metadata": {},
   "outputs": [],
   "source": [
    "df1 = df1.dropna(subset=['Market'])"
   ]
  },
  {
   "cell_type": "markdown",
   "metadata": {},
   "source": [
    "# RFM Algorithm"
   ]
  },
  {
   "cell_type": "code",
   "execution_count": 576,
   "metadata": {},
   "outputs": [
    {
     "data": {
      "text/plain": [
       "Timestamp('2017-01-04 00:00:00')"
      ]
     },
     "execution_count": 576,
     "metadata": {},
     "output_type": "execute_result"
    }
   ],
   "source": [
    "df1['Invcdate'].min()"
   ]
  },
  {
   "cell_type": "code",
   "execution_count": 577,
   "metadata": {},
   "outputs": [
    {
     "data": {
      "text/plain": [
       "Timestamp('2019-12-31 00:00:00')"
      ]
     },
     "execution_count": 577,
     "metadata": {},
     "output_type": "execute_result"
    }
   ],
   "source": [
    "df1['Invcdate'].max()"
   ]
  },
  {
   "cell_type": "code",
   "execution_count": 578,
   "metadata": {},
   "outputs": [],
   "source": [
    "import datetime as dt\n",
    "NOW = dt.datetime(2019,12,31)\n",
    "df1['Invcdate'] = pd.to_datetime(df1['Invcdate'])"
   ]
  },
  {
   "cell_type": "code",
   "execution_count": 579,
   "metadata": {},
   "outputs": [],
   "source": [
    "rfm = df1.groupby('custcode', as_index=False).agg({'Invcdate': lambda x: (NOW - x.max()).days, 'Invoiceno': lambda x: len(x), 'InvVal': lambda x: x.sum()})\n",
    "rfm['Invcdate'] = rfm['Invcdate'].astype(int)\n",
    "rfm.rename(columns={'Invcdate': 'Recency', \n",
    "                         'Invoiceno': 'Frequency', \n",
    "                         'InvVal': 'Monetary'}, inplace=True)"
   ]
  },
  {
   "cell_type": "code",
   "execution_count": 580,
   "metadata": {},
   "outputs": [],
   "source": [
    "quintiles = rfm[['Recency', 'Frequency', 'Monetary']].quantile([.2, .4, .6, .8]).to_dict()"
   ]
  },
  {
   "cell_type": "code",
   "execution_count": 581,
   "metadata": {},
   "outputs": [],
   "source": [
    "def r_score(x):\n",
    "    if x <= quintiles['Recency'][.2]:\n",
    "        return 1\n",
    "    elif x <= quintiles['Recency'][.4]:\n",
    "        return 2\n",
    "    elif x <= quintiles['Recency'][.6]:\n",
    "        return 3\n",
    "    elif x <= quintiles['Recency'][.8]:\n",
    "        return 4\n",
    "    else:\n",
    "        return 5\n",
    "    \n",
    "def fm_score(x, c):\n",
    "    if x <= quintiles[c][.2]:\n",
    "        return 5\n",
    "    elif x <= quintiles[c][.4]:\n",
    "        return 4\n",
    "    elif x <= quintiles[c][.6]:\n",
    "        return 3\n",
    "    elif x <= quintiles[c][.8]:\n",
    "        return 2\n",
    "    else:\n",
    "        return 1  "
   ]
  },
  {
   "cell_type": "code",
   "execution_count": 582,
   "metadata": {},
   "outputs": [],
   "source": [
    "rfm['R'] = rfm['Recency'].apply(lambda x: r_score(x))\n",
    "rfm['F'] = rfm['Frequency'].apply(lambda x: fm_score(x, 'Frequency'))\n",
    "rfm['M'] = rfm['Monetary'].apply(lambda x: fm_score(x, 'Monetary'))"
   ]
  },
  {
   "cell_type": "code",
   "execution_count": 583,
   "metadata": {},
   "outputs": [
    {
     "data": {
      "text/html": [
       "<div>\n",
       "<style scoped>\n",
       "    .dataframe tbody tr th:only-of-type {\n",
       "        vertical-align: middle;\n",
       "    }\n",
       "\n",
       "    .dataframe tbody tr th {\n",
       "        vertical-align: top;\n",
       "    }\n",
       "\n",
       "    .dataframe thead th {\n",
       "        text-align: right;\n",
       "    }\n",
       "</style>\n",
       "<table border=\"1\" class=\"dataframe\">\n",
       "  <thead>\n",
       "    <tr style=\"text-align: right;\">\n",
       "      <th></th>\n",
       "      <th>custcode</th>\n",
       "      <th>Recency</th>\n",
       "      <th>Frequency</th>\n",
       "      <th>Monetary</th>\n",
       "      <th>R</th>\n",
       "      <th>F</th>\n",
       "      <th>M</th>\n",
       "      <th>RFM Score</th>\n",
       "    </tr>\n",
       "  </thead>\n",
       "  <tbody>\n",
       "    <tr>\n",
       "      <th>0</th>\n",
       "      <td>930249</td>\n",
       "      <td>0</td>\n",
       "      <td>82</td>\n",
       "      <td>7711994.80</td>\n",
       "      <td>1</td>\n",
       "      <td>1</td>\n",
       "      <td>2</td>\n",
       "      <td>112</td>\n",
       "    </tr>\n",
       "    <tr>\n",
       "      <th>1</th>\n",
       "      <td>930261</td>\n",
       "      <td>826</td>\n",
       "      <td>13</td>\n",
       "      <td>1040300.44</td>\n",
       "      <td>5</td>\n",
       "      <td>2</td>\n",
       "      <td>4</td>\n",
       "      <td>524</td>\n",
       "    </tr>\n",
       "    <tr>\n",
       "      <th>2</th>\n",
       "      <td>930386</td>\n",
       "      <td>1020</td>\n",
       "      <td>1</td>\n",
       "      <td>2670.21</td>\n",
       "      <td>5</td>\n",
       "      <td>5</td>\n",
       "      <td>5</td>\n",
       "      <td>555</td>\n",
       "    </tr>\n",
       "    <tr>\n",
       "      <th>3</th>\n",
       "      <td>930588</td>\n",
       "      <td>181</td>\n",
       "      <td>15</td>\n",
       "      <td>2197941.00</td>\n",
       "      <td>3</td>\n",
       "      <td>2</td>\n",
       "      <td>3</td>\n",
       "      <td>323</td>\n",
       "    </tr>\n",
       "    <tr>\n",
       "      <th>4</th>\n",
       "      <td>930615</td>\n",
       "      <td>0</td>\n",
       "      <td>31</td>\n",
       "      <td>4917974.34</td>\n",
       "      <td>1</td>\n",
       "      <td>1</td>\n",
       "      <td>2</td>\n",
       "      <td>112</td>\n",
       "    </tr>\n",
       "  </tbody>\n",
       "</table>\n",
       "</div>"
      ],
      "text/plain": [
       "   custcode  Recency  Frequency    Monetary  R  F  M RFM Score\n",
       "0    930249        0         82  7711994.80  1  1  2       112\n",
       "1    930261      826         13  1040300.44  5  2  4       524\n",
       "2    930386     1020          1     2670.21  5  5  5       555\n",
       "3    930588      181         15  2197941.00  3  2  3       323\n",
       "4    930615        0         31  4917974.34  1  1  2       112"
      ]
     },
     "execution_count": 583,
     "metadata": {},
     "output_type": "execute_result"
    }
   ],
   "source": [
    "rfm['RFM Score'] = rfm['R'].map(str) + rfm['F'].map(str) + rfm['M'].map(str)\n",
    "rfm.head()"
   ]
  },
  {
   "cell_type": "code",
   "execution_count": 584,
   "metadata": {},
   "outputs": [
    {
     "data": {
      "text/html": [
       "<div>\n",
       "<style scoped>\n",
       "    .dataframe tbody tr th:only-of-type {\n",
       "        vertical-align: middle;\n",
       "    }\n",
       "\n",
       "    .dataframe tbody tr th {\n",
       "        vertical-align: top;\n",
       "    }\n",
       "\n",
       "    .dataframe thead th {\n",
       "        text-align: right;\n",
       "    }\n",
       "</style>\n",
       "<table border=\"1\" class=\"dataframe\">\n",
       "  <thead>\n",
       "    <tr style=\"text-align: right;\">\n",
       "      <th></th>\n",
       "      <th>custcode</th>\n",
       "      <th>Recency</th>\n",
       "      <th>Frequency</th>\n",
       "      <th>Monetary</th>\n",
       "      <th>R</th>\n",
       "      <th>F</th>\n",
       "      <th>M</th>\n",
       "      <th>RFM Score</th>\n",
       "      <th>Attribute</th>\n",
       "    </tr>\n",
       "  </thead>\n",
       "  <tbody>\n",
       "    <tr>\n",
       "      <th>0</th>\n",
       "      <td>930249</td>\n",
       "      <td>0</td>\n",
       "      <td>82</td>\n",
       "      <td>7711994.80</td>\n",
       "      <td>1</td>\n",
       "      <td>1</td>\n",
       "      <td>2</td>\n",
       "      <td>112</td>\n",
       "      <td>Champion</td>\n",
       "    </tr>\n",
       "    <tr>\n",
       "      <th>1</th>\n",
       "      <td>930261</td>\n",
       "      <td>826</td>\n",
       "      <td>13</td>\n",
       "      <td>1040300.44</td>\n",
       "      <td>5</td>\n",
       "      <td>2</td>\n",
       "      <td>4</td>\n",
       "      <td>524</td>\n",
       "      <td>At Risk</td>\n",
       "    </tr>\n",
       "    <tr>\n",
       "      <th>2</th>\n",
       "      <td>930386</td>\n",
       "      <td>1020</td>\n",
       "      <td>1</td>\n",
       "      <td>2670.21</td>\n",
       "      <td>5</td>\n",
       "      <td>5</td>\n",
       "      <td>5</td>\n",
       "      <td>555</td>\n",
       "      <td>Hibernating</td>\n",
       "    </tr>\n",
       "    <tr>\n",
       "      <th>3</th>\n",
       "      <td>930588</td>\n",
       "      <td>181</td>\n",
       "      <td>15</td>\n",
       "      <td>2197941.00</td>\n",
       "      <td>3</td>\n",
       "      <td>2</td>\n",
       "      <td>3</td>\n",
       "      <td>323</td>\n",
       "      <td>Recent Customers</td>\n",
       "    </tr>\n",
       "    <tr>\n",
       "      <th>4</th>\n",
       "      <td>930615</td>\n",
       "      <td>0</td>\n",
       "      <td>31</td>\n",
       "      <td>4917974.34</td>\n",
       "      <td>1</td>\n",
       "      <td>1</td>\n",
       "      <td>2</td>\n",
       "      <td>112</td>\n",
       "      <td>Champion</td>\n",
       "    </tr>\n",
       "  </tbody>\n",
       "</table>\n",
       "</div>"
      ],
      "text/plain": [
       "   custcode  Recency  Frequency    Monetary  R  F  M RFM Score  \\\n",
       "0    930249        0         82  7711994.80  1  1  2       112   \n",
       "1    930261      826         13  1040300.44  5  2  4       524   \n",
       "2    930386     1020          1     2670.21  5  5  5       555   \n",
       "3    930588      181         15  2197941.00  3  2  3       323   \n",
       "4    930615        0         31  4917974.34  1  1  2       112   \n",
       "\n",
       "          Attribute  \n",
       "0          Champion  \n",
       "1           At Risk  \n",
       "2       Hibernating  \n",
       "3  Recent Customers  \n",
       "4          Champion  "
      ]
     },
     "execution_count": 584,
     "metadata": {},
     "output_type": "execute_result"
    }
   ],
   "source": [
    "segt_map = {\n",
    "    r'[1-2][1-2]': 'Champion',\n",
    "    r'[1-2][3-4]': 'Loyal Customers',\n",
    "    r'[1-2]5': 'Potential Loyalist',\n",
    "    r'3[1-2]': 'Recent Customers',\n",
    "    r'33': 'Promising',\n",
    "    r'[3-4][4-5]': 'Customers Needing Attention',\n",
    "    r'41': 'About to Sleep',\n",
    "    r'51': 'At Risk',\n",
    "    r'[4-5][2-3]': 'At Risk',\n",
    "    r'5[4-5]': 'Hibernating'\n",
    "}\n",
    "\n",
    "rfm['Attribute'] = rfm['R'].map(str) + rfm['F'].map(str)\n",
    "rfm['Attribute'] = rfm['Attribute'].replace(segt_map, regex=True)\n",
    "rfm.head()"
   ]
  },
  {
   "cell_type": "code",
   "execution_count": 585,
   "metadata": {},
   "outputs": [
    {
     "data": {
      "text/html": [
       "<div>\n",
       "<style scoped>\n",
       "    .dataframe tbody tr th:only-of-type {\n",
       "        vertical-align: middle;\n",
       "    }\n",
       "\n",
       "    .dataframe tbody tr th {\n",
       "        vertical-align: top;\n",
       "    }\n",
       "\n",
       "    .dataframe thead th {\n",
       "        text-align: right;\n",
       "    }\n",
       "</style>\n",
       "<table border=\"1\" class=\"dataframe\">\n",
       "  <thead>\n",
       "    <tr style=\"text-align: right;\">\n",
       "      <th></th>\n",
       "      <th>custcode</th>\n",
       "      <th>Recency</th>\n",
       "      <th>Frequency</th>\n",
       "      <th>Monetary</th>\n",
       "      <th>R</th>\n",
       "      <th>F</th>\n",
       "      <th>M</th>\n",
       "      <th>RFM Score</th>\n",
       "      <th>Attribute</th>\n",
       "      <th>Tier</th>\n",
       "    </tr>\n",
       "  </thead>\n",
       "  <tbody>\n",
       "    <tr>\n",
       "      <th>0</th>\n",
       "      <td>930249</td>\n",
       "      <td>0</td>\n",
       "      <td>82</td>\n",
       "      <td>7711994.80</td>\n",
       "      <td>1</td>\n",
       "      <td>1</td>\n",
       "      <td>2</td>\n",
       "      <td>112</td>\n",
       "      <td>Champion</td>\n",
       "      <td>Platinum</td>\n",
       "    </tr>\n",
       "    <tr>\n",
       "      <th>1</th>\n",
       "      <td>930261</td>\n",
       "      <td>826</td>\n",
       "      <td>13</td>\n",
       "      <td>1040300.44</td>\n",
       "      <td>5</td>\n",
       "      <td>2</td>\n",
       "      <td>4</td>\n",
       "      <td>524</td>\n",
       "      <td>At Risk</td>\n",
       "      <td>Bronze</td>\n",
       "    </tr>\n",
       "    <tr>\n",
       "      <th>2</th>\n",
       "      <td>930386</td>\n",
       "      <td>1020</td>\n",
       "      <td>1</td>\n",
       "      <td>2670.21</td>\n",
       "      <td>5</td>\n",
       "      <td>5</td>\n",
       "      <td>5</td>\n",
       "      <td>555</td>\n",
       "      <td>Hibernating</td>\n",
       "      <td>Bronze</td>\n",
       "    </tr>\n",
       "    <tr>\n",
       "      <th>3</th>\n",
       "      <td>930588</td>\n",
       "      <td>181</td>\n",
       "      <td>15</td>\n",
       "      <td>2197941.00</td>\n",
       "      <td>3</td>\n",
       "      <td>2</td>\n",
       "      <td>3</td>\n",
       "      <td>323</td>\n",
       "      <td>Recent Customers</td>\n",
       "      <td>Silver</td>\n",
       "    </tr>\n",
       "    <tr>\n",
       "      <th>4</th>\n",
       "      <td>930615</td>\n",
       "      <td>0</td>\n",
       "      <td>31</td>\n",
       "      <td>4917974.34</td>\n",
       "      <td>1</td>\n",
       "      <td>1</td>\n",
       "      <td>2</td>\n",
       "      <td>112</td>\n",
       "      <td>Champion</td>\n",
       "      <td>Platinum</td>\n",
       "    </tr>\n",
       "  </tbody>\n",
       "</table>\n",
       "</div>"
      ],
      "text/plain": [
       "   custcode  Recency  Frequency    Monetary  R  F  M RFM Score  \\\n",
       "0    930249        0         82  7711994.80  1  1  2       112   \n",
       "1    930261      826         13  1040300.44  5  2  4       524   \n",
       "2    930386     1020          1     2670.21  5  5  5       555   \n",
       "3    930588      181         15  2197941.00  3  2  3       323   \n",
       "4    930615        0         31  4917974.34  1  1  2       112   \n",
       "\n",
       "          Attribute      Tier  \n",
       "0          Champion  Platinum  \n",
       "1           At Risk    Bronze  \n",
       "2       Hibernating    Bronze  \n",
       "3  Recent Customers    Silver  \n",
       "4          Champion  Platinum  "
      ]
     },
     "execution_count": 585,
     "metadata": {},
     "output_type": "execute_result"
    }
   ],
   "source": [
    "tier_map = {\n",
    "    r'[1-2][1-2][1-2]': 'Platinum',\n",
    "    \n",
    "    r'[1-2][3-4][1-2]': 'Gold',\n",
    "    r'[3-4][1-2][1-2]': 'Gold',\n",
    "    \n",
    "    r'[1-2][1-2]3': 'Silver',\n",
    "    r'[2-3][1-3][1-3]': 'Silver',\n",
    "    r'4[1-2][1-3]': 'Silver',\n",
    "    r'[1-2][3-4]3': 'Silver',\n",
    "    r'[1-2][1-2][4-5]': 'Silver',\n",
    "    r'[1-2][4-5][1-2]': 'Silver',\n",
    "    r'[1-2][3-4][4-5]': 'Silver',\n",
    "    r'[4-5][3-4][1-2]': 'Silver',\n",
    "    r'[4-5][1-2][1-2]': 'Silver',\n",
    "    \n",
    "    \n",
    "    \n",
    "    r'[3-5][4-5][1-2]': 'Bronze',\n",
    "    r'[3-5][3-5][3-5]': 'Bronze',\n",
    "    r'[4-5][4-5][3-5]': 'Bronze',\n",
    "    r'[4-5][1-2][4-5]': 'Bronze',\n",
    "    r'[1-2][4-5][3-5]': 'Bronze',\n",
    "    r'[3-4][1-2][4-5]': 'Bronze',\n",
    "    \n",
    "    \n",
    "}\n",
    "\n",
    "rfm['Tier'] = rfm['R'].map(str) + rfm['F'].map(str) + rfm['M'].map(str)\n",
    "rfm['Tier'] = rfm['Tier'].replace(tier_map, regex=True)\n",
    "rfm.head()"
   ]
  },
  {
   "cell_type": "code",
   "execution_count": 586,
   "metadata": {},
   "outputs": [
    {
     "data": {
      "text/plain": [
       "array(['Platinum', 'Bronze', 'Silver', 'Gold'], dtype=object)"
      ]
     },
     "execution_count": 586,
     "metadata": {},
     "output_type": "execute_result"
    }
   ],
   "source": [
    "rfm.Tier.unique()"
   ]
  },
  {
   "cell_type": "code",
   "execution_count": 587,
   "metadata": {},
   "outputs": [],
   "source": [
    "df1=df1.drop(['Phy_Attrib1', 'Phy_Attrib2','Segment1', 'Segment2', \n",
    "            'Gpno', 'ShortDesc', 'Consignee Name', 'Dlv Term','Transportr', 'Pordno','Porddt', 'FrtTerm'], axis=1)"
   ]
  },
  {
   "cell_type": "code",
   "execution_count": 588,
   "metadata": {},
   "outputs": [],
   "source": [
    "rfm = rfm.drop_duplicates()\n",
    "\n",
    "## Merge the labeled RFM dataframe to Original dataframe\n",
    "df=pd.merge(df1, rfm , on=['custcode'])"
   ]
  },
  {
   "cell_type": "code",
   "execution_count": 589,
   "metadata": {},
   "outputs": [
    {
     "data": {
      "text/html": [
       "<div>\n",
       "<style scoped>\n",
       "    .dataframe tbody tr th:only-of-type {\n",
       "        vertical-align: middle;\n",
       "    }\n",
       "\n",
       "    .dataframe tbody tr th {\n",
       "        vertical-align: top;\n",
       "    }\n",
       "\n",
       "    .dataframe thead th {\n",
       "        text-align: right;\n",
       "    }\n",
       "</style>\n",
       "<table border=\"1\" class=\"dataframe\">\n",
       "  <thead>\n",
       "    <tr style=\"text-align: right;\">\n",
       "      <th></th>\n",
       "      <th>custcode</th>\n",
       "      <th>Custname</th>\n",
       "      <th>ProductVal</th>\n",
       "      <th>Invoiceno</th>\n",
       "      <th>Invcdate</th>\n",
       "      <th>InvVal</th>\n",
       "      <th>Qty</th>\n",
       "      <th>Rate</th>\n",
       "      <th>Itemcode</th>\n",
       "      <th>Descr</th>\n",
       "      <th>...</th>\n",
       "      <th>Monetary</th>\n",
       "      <th>R</th>\n",
       "      <th>F</th>\n",
       "      <th>M</th>\n",
       "      <th>RFM Score</th>\n",
       "      <th>Attribute</th>\n",
       "      <th>Tier</th>\n",
       "      <th>Mean_Rate</th>\n",
       "      <th>Leakage</th>\n",
       "      <th>Leakage_perc</th>\n",
       "    </tr>\n",
       "  </thead>\n",
       "  <tbody>\n",
       "    <tr>\n",
       "      <th>0</th>\n",
       "      <td>930936</td>\n",
       "      <td>ZIRCAST LTD</td>\n",
       "      <td>3875.0</td>\n",
       "      <td>BDI9703376</td>\n",
       "      <td>2017-01-27</td>\n",
       "      <td>4598.75</td>\n",
       "      <td>25</td>\n",
       "      <td>155.0</td>\n",
       "      <td>PA 748</td>\n",
       "      <td>REFRACTORY PATCHING MATERIAL PA-748</td>\n",
       "      <td>...</td>\n",
       "      <td>202388.68</td>\n",
       "      <td>4</td>\n",
       "      <td>3</td>\n",
       "      <td>5</td>\n",
       "      <td>435</td>\n",
       "      <td>At Risk</td>\n",
       "      <td>Bronze</td>\n",
       "      <td>150.790426</td>\n",
       "      <td>4.209574</td>\n",
       "      <td>2.715854</td>\n",
       "    </tr>\n",
       "    <tr>\n",
       "      <th>1</th>\n",
       "      <td>930936</td>\n",
       "      <td>ZIRCAST LTD</td>\n",
       "      <td>7750.0</td>\n",
       "      <td>BDI9706747</td>\n",
       "      <td>2017-02-20</td>\n",
       "      <td>9198.55</td>\n",
       "      <td>50</td>\n",
       "      <td>155.0</td>\n",
       "      <td>PA 748</td>\n",
       "      <td>REFRACTORY PATCHING MATERIAL PA-748</td>\n",
       "      <td>...</td>\n",
       "      <td>202388.68</td>\n",
       "      <td>4</td>\n",
       "      <td>3</td>\n",
       "      <td>5</td>\n",
       "      <td>435</td>\n",
       "      <td>At Risk</td>\n",
       "      <td>Bronze</td>\n",
       "      <td>150.790426</td>\n",
       "      <td>4.209574</td>\n",
       "      <td>2.715854</td>\n",
       "    </tr>\n",
       "    <tr>\n",
       "      <th>2</th>\n",
       "      <td>930936</td>\n",
       "      <td>ZIRCAST LTD</td>\n",
       "      <td>17000.0</td>\n",
       "      <td>BDI9716153</td>\n",
       "      <td>2017-04-20</td>\n",
       "      <td>20176.88</td>\n",
       "      <td>100</td>\n",
       "      <td>170.0</td>\n",
       "      <td>PA 748</td>\n",
       "      <td>REFRACTORY PATCHING MATERIAL PA-748</td>\n",
       "      <td>...</td>\n",
       "      <td>202388.68</td>\n",
       "      <td>4</td>\n",
       "      <td>3</td>\n",
       "      <td>5</td>\n",
       "      <td>435</td>\n",
       "      <td>At Risk</td>\n",
       "      <td>Bronze</td>\n",
       "      <td>150.790426</td>\n",
       "      <td>19.209574</td>\n",
       "      <td>11.299750</td>\n",
       "    </tr>\n",
       "    <tr>\n",
       "      <th>3</th>\n",
       "      <td>930936</td>\n",
       "      <td>ZIRCAST LTD</td>\n",
       "      <td>34000.0</td>\n",
       "      <td>BDI9728394</td>\n",
       "      <td>2017-07-10</td>\n",
       "      <td>40120.00</td>\n",
       "      <td>200</td>\n",
       "      <td>170.0</td>\n",
       "      <td>PA 748</td>\n",
       "      <td>REFRACTORY PATCHING MATERIAL PA-748</td>\n",
       "      <td>...</td>\n",
       "      <td>202388.68</td>\n",
       "      <td>4</td>\n",
       "      <td>3</td>\n",
       "      <td>5</td>\n",
       "      <td>435</td>\n",
       "      <td>At Risk</td>\n",
       "      <td>Bronze</td>\n",
       "      <td>150.790426</td>\n",
       "      <td>19.209574</td>\n",
       "      <td>11.299750</td>\n",
       "    </tr>\n",
       "    <tr>\n",
       "      <th>4</th>\n",
       "      <td>930936</td>\n",
       "      <td>ZIRCAST LTD</td>\n",
       "      <td>18190.0</td>\n",
       "      <td>BDI9801557</td>\n",
       "      <td>2018-01-08</td>\n",
       "      <td>21464.20</td>\n",
       "      <td>100</td>\n",
       "      <td>181.9</td>\n",
       "      <td>PA 748</td>\n",
       "      <td>REFRACTORY PATCHING MATERIAL PA-748</td>\n",
       "      <td>...</td>\n",
       "      <td>202388.68</td>\n",
       "      <td>4</td>\n",
       "      <td>3</td>\n",
       "      <td>5</td>\n",
       "      <td>435</td>\n",
       "      <td>At Risk</td>\n",
       "      <td>Bronze</td>\n",
       "      <td>150.790426</td>\n",
       "      <td>31.109574</td>\n",
       "      <td>17.102570</td>\n",
       "    </tr>\n",
       "  </tbody>\n",
       "</table>\n",
       "<p>5 rows × 25 columns</p>\n",
       "</div>"
      ],
      "text/plain": [
       "   custcode     Custname  ProductVal   Invoiceno   Invcdate    InvVal  Qty  \\\n",
       "0    930936  ZIRCAST LTD      3875.0  BDI9703376 2017-01-27   4598.75   25   \n",
       "1    930936  ZIRCAST LTD      7750.0  BDI9706747 2017-02-20   9198.55   50   \n",
       "2    930936  ZIRCAST LTD     17000.0  BDI9716153 2017-04-20  20176.88  100   \n",
       "3    930936  ZIRCAST LTD     34000.0  BDI9728394 2017-07-10  40120.00  200   \n",
       "4    930936  ZIRCAST LTD     18190.0  BDI9801557 2018-01-08  21464.20  100   \n",
       "\n",
       "    Rate Itemcode                                Descr  ...   Monetary  R  F  \\\n",
       "0  155.0   PA 748  REFRACTORY PATCHING MATERIAL PA-748  ...  202388.68  4  3   \n",
       "1  155.0   PA 748  REFRACTORY PATCHING MATERIAL PA-748  ...  202388.68  4  3   \n",
       "2  170.0   PA 748  REFRACTORY PATCHING MATERIAL PA-748  ...  202388.68  4  3   \n",
       "3  170.0   PA 748  REFRACTORY PATCHING MATERIAL PA-748  ...  202388.68  4  3   \n",
       "4  181.9   PA 748  REFRACTORY PATCHING MATERIAL PA-748  ...  202388.68  4  3   \n",
       "\n",
       "   M  RFM Score  Attribute    Tier   Mean_Rate    Leakage Leakage_perc  \n",
       "0  5        435    At Risk  Bronze  150.790426   4.209574     2.715854  \n",
       "1  5        435    At Risk  Bronze  150.790426   4.209574     2.715854  \n",
       "2  5        435    At Risk  Bronze  150.790426  19.209574    11.299750  \n",
       "3  5        435    At Risk  Bronze  150.790426  19.209574    11.299750  \n",
       "4  5        435    At Risk  Bronze  150.790426  31.109574    17.102570  \n",
       "\n",
       "[5 rows x 25 columns]"
      ]
     },
     "execution_count": 589,
     "metadata": {},
     "output_type": "execute_result"
    }
   ],
   "source": [
    "df_lvl2=df.groupby(['Tier','Itemcode']).agg({'Rate':'mean'}).reset_index()\n",
    "df_lvl2=df_lvl2.rename(columns={'Rate': 'Mean_Rate'})\n",
    "df2=pd.merge(df, df_lvl2, on=['Tier', 'Itemcode'])\n",
    "df2['Leakage']=df2['Rate']-df2['Mean_Rate']\n",
    "df2['Leakage_perc']=(df2['Leakage']/df2['Rate'])*100\n",
    "df2.head()"
   ]
  },
  {
   "cell_type": "code",
   "execution_count": 590,
   "metadata": {},
   "outputs": [],
   "source": [
    "df2['Orderdate'] = pd.to_datetime(df2['Orderdate'])\n",
    "df2['Duration']=(df2.Invcdate-df2.Orderdate).astype('timedelta64[h]')\n",
    "df_dur = df2.groupby('custcode', as_index=False).agg({'Duration': [min, max, 'mean']})\n",
    "df_dur.columns = [\"_\".join(x) for x in df_dur.columns.ravel()]"
   ]
  },
  {
   "cell_type": "code",
   "execution_count": 591,
   "metadata": {},
   "outputs": [],
   "source": [
    "df_dur=df_dur.rename(columns={'custcode_': 'custcode'})"
   ]
  },
  {
   "cell_type": "code",
   "execution_count": 592,
   "metadata": {},
   "outputs": [],
   "source": [
    "result_df=pd.merge(df_dur , df2 , on=['custcode'])"
   ]
  },
  {
   "cell_type": "code",
   "execution_count": 593,
   "metadata": {},
   "outputs": [],
   "source": [
    "result_df.to_csv(r'C:/Users/L7927301/Documents/PCR/Total_df.csv')"
   ]
  },
  {
   "cell_type": "code",
   "execution_count": 594,
   "metadata": {},
   "outputs": [],
   "source": [
    "df=df.drop(['Descr', 'Recency', 'Frequency','Monetary', 'R','F','M','RFM Score','Attribute','Tier'], axis=1)"
   ]
  },
  {
   "cell_type": "code",
   "execution_count": 595,
   "metadata": {},
   "outputs": [],
   "source": [
    "mask_2017 = (df['Invcdate'] >= '2017-01-01') & (df['Invcdate'] < '2018-01-01')\n",
    "mask_2018 = (df['Invcdate'] >= '2018-01-01') & (df['Invcdate'] < '2019-01-01')\n",
    "mask_2019 = (df['Invcdate'] >= '2019-01-01') & (df['Invcdate'] < '2020-01-01')"
   ]
  },
  {
   "cell_type": "code",
   "execution_count": 596,
   "metadata": {},
   "outputs": [],
   "source": [
    "df_2017=df.loc[mask_2017]\n",
    "df_2018=df.loc[mask_2018]\n",
    "df_2019=df.loc[mask_2019]"
   ]
  },
  {
   "cell_type": "code",
   "execution_count": 597,
   "metadata": {},
   "outputs": [
    {
     "name": "stderr",
     "output_type": "stream",
     "text": [
      "C:\\Users\\L7927301\\AppData\\Local\\Continuum\\anaconda3\\lib\\site-packages\\ipykernel_launcher.py:2: SettingWithCopyWarning: \n",
      "A value is trying to be set on a copy of a slice from a DataFrame.\n",
      "Try using .loc[row_indexer,col_indexer] = value instead\n",
      "\n",
      "See the caveats in the documentation: http://pandas.pydata.org/pandas-docs/stable/user_guide/indexing.html#returning-a-view-versus-a-copy\n",
      "  \n",
      "C:\\Users\\L7927301\\AppData\\Local\\Continuum\\anaconda3\\lib\\site-packages\\ipykernel_launcher.py:5: SettingWithCopyWarning: \n",
      "A value is trying to be set on a copy of a slice from a DataFrame.\n",
      "Try using .loc[row_indexer,col_indexer] = value instead\n",
      "\n",
      "See the caveats in the documentation: http://pandas.pydata.org/pandas-docs/stable/user_guide/indexing.html#returning-a-view-versus-a-copy\n",
      "  \"\"\"\n",
      "C:\\Users\\L7927301\\AppData\\Local\\Continuum\\anaconda3\\lib\\site-packages\\ipykernel_launcher.py:8: SettingWithCopyWarning: \n",
      "A value is trying to be set on a copy of a slice from a DataFrame.\n",
      "Try using .loc[row_indexer,col_indexer] = value instead\n",
      "\n",
      "See the caveats in the documentation: http://pandas.pydata.org/pandas-docs/stable/user_guide/indexing.html#returning-a-view-versus-a-copy\n",
      "  \n"
     ]
    }
   ],
   "source": [
    "NOW_2017 = dt.datetime(2017,12,31)\n",
    "df_2017['Invcdate'] = pd.to_datetime(df_2017['Invcdate'])\n",
    "\n",
    "NOW_2018 = dt.datetime(2018,12,31)\n",
    "df_2018['Invcdate'] = pd.to_datetime(df_2018['Invcdate'])\n",
    "\n",
    "NOW_2019 = dt.datetime(2019,12,31)\n",
    "df_2019['Invcdate'] = pd.to_datetime(df_2019['Invcdate'])"
   ]
  },
  {
   "cell_type": "code",
   "execution_count": 598,
   "metadata": {},
   "outputs": [],
   "source": [
    "rfm1 = df_2017.groupby('custcode', as_index=False).agg({'Invcdate': lambda x: (NOW_2017 - x.max()).days, 'Invoiceno': lambda x: len(x), 'InvVal': lambda x: x.sum()})\n",
    "rfm1['Invcdate'] = rfm1['Invcdate'].astype(int)\n",
    "rfm1.rename(columns={'Invcdate': 'Recency', \n",
    "                         'Invoiceno': 'Frequency', \n",
    "                         'InvVal': 'Monetary'}, inplace=True)"
   ]
  },
  {
   "cell_type": "code",
   "execution_count": 599,
   "metadata": {},
   "outputs": [],
   "source": [
    "rfm2 = df_2018.groupby('custcode', as_index=False).agg({'Invcdate': lambda x: (NOW_2018 - x.max()).days, 'Invoiceno': lambda x: len(x), 'InvVal': lambda x: x.sum()})\n",
    "rfm2['Invcdate'] = rfm2['Invcdate'].astype(int)\n",
    "rfm2.rename(columns={'Invcdate': 'Recency', \n",
    "                         'Invoiceno': 'Frequency', \n",
    "                         'InvVal': 'Monetary'}, inplace=True)"
   ]
  },
  {
   "cell_type": "code",
   "execution_count": 600,
   "metadata": {},
   "outputs": [],
   "source": [
    "rfm3 = df_2019.groupby('custcode', as_index=False).agg({'Invcdate': lambda x: (NOW_2019 - x.max()).days, 'Invoiceno': lambda x: len(x), 'InvVal': lambda x: x.sum()})\n",
    "rfm3['Invcdate'] = rfm3['Invcdate'].astype(int)\n",
    "rfm3.rename(columns={'Invcdate': 'Recency', \n",
    "                         'Invoiceno': 'Frequency', \n",
    "                         'InvVal': 'Monetary'}, inplace=True)"
   ]
  },
  {
   "cell_type": "code",
   "execution_count": 601,
   "metadata": {},
   "outputs": [],
   "source": [
    "rfm1['R'] = rfm1['Recency'].apply(lambda x: r_score(x))\n",
    "rfm1['F'] = rfm1['Frequency'].apply(lambda x: fm_score(x, 'Frequency'))\n",
    "rfm1['M'] = rfm1['Monetary'].apply(lambda x: fm_score(x, 'Monetary'))\n",
    "\n",
    "rfm2['R'] = rfm2['Recency'].apply(lambda x: r_score(x))\n",
    "rfm2['F'] = rfm2['Frequency'].apply(lambda x: fm_score(x, 'Frequency'))\n",
    "rfm2['M'] = rfm2['Monetary'].apply(lambda x: fm_score(x, 'Monetary'))\n",
    "\n",
    "rfm3['R'] = rfm3['Recency'].apply(lambda x: r_score(x))\n",
    "rfm3['F'] = rfm3['Frequency'].apply(lambda x: fm_score(x, 'Frequency'))\n",
    "rfm3['M'] = rfm3['Monetary'].apply(lambda x: fm_score(x, 'Monetary'))"
   ]
  },
  {
   "cell_type": "code",
   "execution_count": 602,
   "metadata": {},
   "outputs": [],
   "source": [
    "rfm1['RFM Score'] = rfm1['R'].map(str) + rfm1['F'].map(str) + rfm1['M'].map(str)\n",
    "rfm2['RFM Score'] = rfm2['R'].map(str) + rfm2['F'].map(str) + rfm2['M'].map(str)\n",
    "rfm3['RFM Score'] = rfm3['R'].map(str) + rfm3['F'].map(str) + rfm3['M'].map(str)"
   ]
  },
  {
   "cell_type": "code",
   "execution_count": 603,
   "metadata": {},
   "outputs": [],
   "source": [
    "rfm1['Attribute'] = rfm1['R'].map(str) + rfm1['F'].map(str)\n",
    "rfm1['Attribute'] = rfm1['Attribute'].replace(segt_map, regex=True)\n",
    "\n",
    "rfm2['Attribute'] = rfm2['R'].map(str) + rfm2['F'].map(str)\n",
    "rfm2['Attribute'] = rfm2['Attribute'].replace(segt_map, regex=True)\n",
    "\n",
    "rfm3['Attribute'] = rfm3['R'].map(str) + rfm3['F'].map(str)\n",
    "rfm3['Attribute'] = rfm3['Attribute'].replace(segt_map, regex=True)\n",
    "\n",
    "\n",
    "\n",
    "rfm1['Tier'] = rfm1['R'].map(str) + rfm1['F'].map(str) + rfm1['M'].map(str)\n",
    "rfm1['Tier'] = rfm1['Tier'].replace(tier_map, regex=True)\n",
    "\n",
    "rfm2['Tier'] = rfm2['R'].map(str) + rfm2['F'].map(str) + rfm2['M'].map(str)\n",
    "rfm2['Tier'] = rfm2['Tier'].replace(tier_map, regex=True)\n",
    "\n",
    "rfm3['Tier'] = rfm3['R'].map(str) + rfm3['F'].map(str) + rfm3['M'].map(str)\n",
    "rfm3['Tier'] = rfm3['Tier'].replace(tier_map, regex=True)"
   ]
  },
  {
   "cell_type": "code",
   "execution_count": 604,
   "metadata": {},
   "outputs": [
    {
     "data": {
      "text/plain": [
       "array(['Silver', 'Bronze', 'Gold', 'Platinum'], dtype=object)"
      ]
     },
     "execution_count": 604,
     "metadata": {},
     "output_type": "execute_result"
    }
   ],
   "source": [
    "rfm3.Tier.unique()"
   ]
  },
  {
   "cell_type": "code",
   "execution_count": 605,
   "metadata": {},
   "outputs": [],
   "source": [
    "rfm1 = rfm1.drop_duplicates()\n",
    "rfm2 = rfm2.drop_duplicates()\n",
    "rfm3 = rfm3.drop_duplicates()\n",
    "\n",
    "## Merge the labeled RFM dataframe to Original dataframe\n",
    "df_17=pd.merge(df_2017, rfm , on=['custcode'])\n",
    "df_18=pd.merge(df_2018, rfm , on=['custcode'])\n",
    "df_19=pd.merge(df_2019, rfm , on=['custcode'])\n"
   ]
  },
  {
   "cell_type": "code",
   "execution_count": 606,
   "metadata": {},
   "outputs": [],
   "source": [
    "\n",
    "df_17.to_csv(r'C:/Users/L7927301/Documents/PCR/df_2017.csv')\n",
    "df_18.to_csv(r'C:/Users/L7927301/Documents/PCR/df_2018.csv')\n",
    "df_19.to_csv(r'C:/Users/L7927301/Documents/PCR/df_2019.csv')"
   ]
  },
  {
   "cell_type": "code",
   "execution_count": 607,
   "metadata": {},
   "outputs": [
    {
     "data": {
      "text/plain": [
       "Index(['custcode', 'Custname', 'ProductVal', 'Invoiceno', 'Invcdate', 'InvVal',\n",
       "       'Qty', 'Rate', 'Itemcode', 'Orderdate', 'Market', 'Segment'],\n",
       "      dtype='object')"
      ]
     },
     "execution_count": 607,
     "metadata": {},
     "output_type": "execute_result"
    }
   ],
   "source": [
    "df.columns"
   ]
  },
  {
   "cell_type": "code",
   "execution_count": 608,
   "metadata": {},
   "outputs": [
    {
     "data": {
      "text/plain": [
       "Index(['custcode', 'Custname', 'ProductVal', 'Invoiceno', 'Invcdate', 'InvVal',\n",
       "       'Qty', 'Rate', 'Itemcode', 'Orderdate', 'Market', 'Segment', 'Recency',\n",
       "       'Frequency', 'Monetary', 'R', 'F', 'M', 'RFM Score', 'Attribute',\n",
       "       'Tier'],\n",
       "      dtype='object')"
      ]
     },
     "execution_count": 608,
     "metadata": {},
     "output_type": "execute_result"
    }
   ],
   "source": [
    "df_19.columns"
   ]
  },
  {
   "cell_type": "code",
   "execution_count": 609,
   "metadata": {},
   "outputs": [],
   "source": [
    "df_a = df_17.append(df_18) \n",
    "df_merged = df_a.append(df_19)"
   ]
  },
  {
   "cell_type": "code",
   "execution_count": 610,
   "metadata": {},
   "outputs": [],
   "source": [
    "df_merged.to_csv(r'C:/Users/L7927301/Documents/PCR/df_merged.csv')"
   ]
  },
  {
   "cell_type": "code",
   "execution_count": null,
   "metadata": {},
   "outputs": [],
   "source": []
  }
 ],
 "metadata": {
  "kernelspec": {
   "display_name": "Python 3",
   "language": "python",
   "name": "python3"
  },
  "language_info": {
   "codemirror_mode": {
    "name": "ipython",
    "version": 3
   },
   "file_extension": ".py",
   "mimetype": "text/x-python",
   "name": "python",
   "nbconvert_exporter": "python",
   "pygments_lexer": "ipython3",
   "version": "3.7.6"
  }
 },
 "nbformat": 4,
 "nbformat_minor": 2
}
