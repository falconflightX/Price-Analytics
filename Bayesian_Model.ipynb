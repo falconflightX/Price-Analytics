import pymc3 as pm
from pymc3 import  *
import theano
import theano.tensor as tt
print('Running on PyMC3 v{}'.format(pm.__version__))

import numpy as np
from scipy import stats
from matplotlib import pylab as plt
import seaborn as sns
sns.set_style("whitegrid")

import warnings
warnings.simplefilter(action='ignore', category=FutureWarning)